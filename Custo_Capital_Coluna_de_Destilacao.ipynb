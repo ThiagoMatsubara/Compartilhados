{
 "cells": [
  {
   "cell_type": "code",
   "execution_count": 2,
   "id": "c3fdf35c",
   "metadata": {},
   "outputs": [],
   "source": [
    "import numpy as np\n",
    "import math\n",
    "import sympy\n",
    "\n",
    "sympy.init_printing()"
   ]
  },
  {
   "cell_type": "code",
   "execution_count": 42,
   "id": "bde47e0c",
   "metadata": {},
   "outputs": [],
   "source": [
    "class Custo_Capital_Coluna_de_Destilacao:\n",
    "    def __init__(self, parametros):\n",
    "        self.i=parametros.get(\"i\")#i Taxa de desconto\n",
    "        self.n=parametros.get(\"n\")#n Períodos\n",
    "        self.Q=parametros.get(\"Q\") #Carga térmica do refervedor ou condensador kW\n",
    "        self.U=parametros.get(\"U\") #0.6kW/m²K\n",
    "        self.DeltaT=parametros.get(\"DeltaT\")\n",
    "        self.P=parametros.get(\"P\") #Pressão (bar)\n",
    "        #self.Dc=parametros.get(\"Dc\") #Diâmetro da coluna\n",
    "        self.Dest=parametros.get(\"Dest\") # Vazão total de destilado (kmol/h)\n",
    "        self.RR=parametros.get(\"RR\") # Razão de Refluxo\n",
    "        self.Tcond=parametros.get(\"Tcond\") #Temperatura do Condensador (K)\n",
    "        self.Nt=parametros.get(\"Nt\") # Número de estágios teóricos\n",
    "        self.nu=parametros.get(\"nu\") # Eficiência da coluna (0.8)\n",
    "\n",
    "    def Calcular_Custo_Capital(self):\n",
    "\n",
    "        FA=self.i*(1+self.i)**self.n/((1+self.i)**self.n-1)\n",
    "        Hc=0.6*(self.Nt/self.nu)+4.27\n",
    "        V=0.761*(1/self.P)**0.5\n",
    "        Dc=((1/(math.pi*V))*self.Dest*(self.RR+1)*22.4*(self.Tcond/273)*(1/self.P)*(1/3600))**(1/2)\n",
    "        CCcol=(101.9*Dc*Hc**0.802*3.18+4.7*Dc*Hc)*(803/274)\n",
    "        Area=(self.Q/(self.U*self.DeltaT))\n",
    "        CCref=CCcond=101.3*Area**0.65*3.29*(803/274)\n",
    "        CCTotal=FA*(CCcol+CCcond+CCref)\n",
    "\n",
    "        return {\n",
    "            \"CCTotal\": CCTotal,\n",
    "            \"CCcol\": CCcol,\n",
    "            \"CCref\": CCref # Você também pode adicionar \"CCcond\": CCcond se preferir a redundância\n",
    "        }\n",
    "\n",
    "#FA Fator de Anualização\n",
    "#n Períodos\n",
    "#i Taxa de desconto\n",
    "#V Velocidade do vapor (m/s)\n",
    "#P Pressão (bar)\n",
    "#Dc Diâmetro da coluna\n",
    "#Dest Vazão total de destilado (kmol/h)\n",
    "#RR Razão de Refluxo\n",
    "#Tcond Temperatura do Condensador (K)\n",
    "#Hc Altura da coluna\n",
    "#Nt Número de estágios teóricos\n",
    "#nu Eficiência da coluna (0.8)"
   ]
  },
  {
   "cell_type": "code",
   "execution_count": 68,
   "id": "bcbd7971",
   "metadata": {},
   "outputs": [
    {
     "name": "stdout",
     "output_type": "stream",
     "text": [
      "Custo Capital Total (CCTotal): R$199,803.08\n",
      "Custo da Coluna (CCcol): R$33,290.14\n",
      "Custo do Refervedor/Condensador (CCref/CCcond): R$74,174.51\n"
     ]
    }
   ],
   "source": [
    "parametros_simulados= {\n",
    "    \"n\":1,\n",
    "    \"i\":0.1,\n",
    "    \"Q\":17767,\n",
    "    \"U\":0.6,\n",
    "    \"DeltaT\":37.88,\n",
    "    \"P\":1,\n",
    "   # \"Dc\":1.83,\n",
    "    \"Dest\":270,\n",
    "    \"RR\":2.875,\n",
    "    \"Tcond\":328.895,\n",
    "    \"Nt\":46,\n",
    "    \"nu\":0.8\n",
    "}\n",
    "\n",
    "parametros_da_coluna=Custo_Capital_Coluna_de_Destilacao(parametros_simulados)\n",
    "custo_da_coluna = parametros_da_coluna.Calcular_Custo_Capital()\n",
    "print(f\"Custo Capital Total (CCTotal): R${custo_da_coluna['CCTotal']:,.2f}\")\n",
    "print(f\"Custo da Coluna (CCcol): R${custo_da_coluna['CCcol']:,.2f}\")\n",
    "print(f\"Custo do Refervedor/Condensador (CCref/CCcond): R${custo_da_coluna['CCref']:,.2f}\")"
   ]
  },
  {
   "cell_type": "code",
   "execution_count": 67,
   "id": "c970ddc7",
   "metadata": {},
   "outputs": [
    {
     "name": "stdout",
     "output_type": "stream",
     "text": [
      "37.88405137824322\n"
     ]
    }
   ],
   "source": [
    "#Calculo rápido do valor de deltaT\n",
    "#DeltaT1 = dif de T entre entrada do Fluido quente e saida do fluido frio no condensador - topo da coluana\n",
    "#DeltaT2 = df de T saida de fluido quente e entrada de fluido frio no reboiler - fundo da coluan \n",
    "DeltaT1 = 337.33-298.15\n",
    "DeltaT2 = 500-463.383\n",
    "DeltaTMedia = (DeltaT1-DeltaT2)/(math.log(DeltaT1/DeltaT2))\n",
    "print(DeltaTMedia)"
   ]
  }
 ],
 "metadata": {
  "kernelspec": {
   "display_name": "Python 3",
   "language": "python",
   "name": "python3"
  },
  "language_info": {
   "codemirror_mode": {
    "name": "ipython",
    "version": 3
   },
   "file_extension": ".py",
   "mimetype": "text/x-python",
   "name": "python",
   "nbconvert_exporter": "python",
   "pygments_lexer": "ipython3",
   "version": "3.12.2"
  }
 },
 "nbformat": 4,
 "nbformat_minor": 5
}
